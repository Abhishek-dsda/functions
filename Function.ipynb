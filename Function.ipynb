{
 "cells": [
  {
   "cell_type": "markdown",
   "id": "c1474a36",
   "metadata": {},
   "source": [
    "### Functions ###\n",
    "\n",
    "***Theory Questions***"
   ]
  },
  {
   "cell_type": "markdown",
   "id": "c4e90059",
   "metadata": {},
   "source": [
    "***1.  What is the difference between a function and a method in Python?***"
   ]
  },
  {
   "cell_type": "markdown",
   "id": "055a02fd",
   "metadata": {},
   "source": [
    "* Function → Normal block of code, works alone. You just call it by name.\n",
    "\n",
    "* Method → A function inside a class, tied to an object. You call it with object.method().\n",
    "All methods are functions, but not all functions are methods."
   ]
  },
  {
   "cell_type": "code",
   "execution_count": 2,
   "id": "40796cd6",
   "metadata": {},
   "outputs": [
    {
     "name": "stdout",
     "output_type": "stream",
     "text": [
      "5\n",
      "5\n"
     ]
    }
   ],
   "source": [
    "#Function Example-\n",
    "def add(a, b):\n",
    "    return a + b\n",
    "\n",
    "print(add(2, 3))\n",
    "\n",
    "#Method Example - \n",
    "class Calculator:\n",
    "    def add(self, a, b):\n",
    "        return a + b\n",
    "\n",
    "calc = Calculator()\n",
    "print(calc.add(2, 3))"
   ]
  },
  {
   "cell_type": "markdown",
   "id": "867041f4",
   "metadata": {},
   "source": [
    "***2. Explain the concept of function arguments and parameters in Python.***"
   ]
  },
  {
   "cell_type": "markdown",
   "id": "30b28c71",
   "metadata": {},
   "source": [
    "* Parameters → The names you write in the function definition (like placeholders).\n",
    "\n",
    "* Arguments → The actual values you pass when calling the function.\n",
    "\n",
    "Types of Arguments\n",
    "\n",
    "* Positional → order matters\n",
    "* Keyword → use names\n",
    "* Default → pre-set value\n",
    "* *args → many values\n",
    "* **kwargs → many key-value"
   ]
  },
  {
   "cell_type": "code",
   "execution_count": 5,
   "id": "08c1f9b8",
   "metadata": {},
   "outputs": [
    {
     "name": "stdout",
     "output_type": "stream",
     "text": [
      "Hello Abhi\n"
     ]
    }
   ],
   "source": [
    "#Example\n",
    "def greet(name):     # name = parameter\n",
    "    print(\"Hello\", name)\n",
    "\n",
    "greet(\"Abhi\")        # \"Abhi\" = argument\n"
   ]
  },
  {
   "cell_type": "markdown",
   "id": "ce7862a1",
   "metadata": {},
   "source": [
    "***3.  What are the different ways to define and call a function in Python?***"
   ]
  },
  {
   "cell_type": "markdown",
   "id": "b7b22bbc",
   "metadata": {},
   "source": [
    "Ways to Define & Call Functions in Python\n",
    "\n",
    "1. Normal Function"
   ]
  },
  {
   "cell_type": "code",
   "execution_count": 6,
   "id": "92a37104",
   "metadata": {},
   "outputs": [
    {
     "name": "stdout",
     "output_type": "stream",
     "text": [
      "Hello\n"
     ]
    }
   ],
   "source": [
    "def greet():\n",
    "    print(\"Hello\")\n",
    "greet()"
   ]
  },
  {
   "cell_type": "markdown",
   "id": "86746dd5",
   "metadata": {},
   "source": [
    "2. Function with Parameters\n"
   ]
  },
  {
   "cell_type": "code",
   "execution_count": 15,
   "id": "28fb56f2",
   "metadata": {},
   "outputs": [
    {
     "name": "stdout",
     "output_type": "stream",
     "text": [
      "Hello Abhi\n"
     ]
    }
   ],
   "source": [
    "def greet(name):\n",
    "    print(\"Hello\", name)\n",
    "greet(\"Abhi\")"
   ]
  },
  {
   "cell_type": "markdown",
   "id": "c12c60f1",
   "metadata": {},
   "source": [
    "3. Function with Default Parameter"
   ]
  },
  {
   "cell_type": "code",
   "execution_count": 11,
   "id": "7305376d",
   "metadata": {},
   "outputs": [
    {
     "name": "stdout",
     "output_type": "stream",
     "text": [
      "Hello Guest\n"
     ]
    }
   ],
   "source": [
    "def greet(name=\"Guest\"):\n",
    "    print(\"Hello\", name)\n",
    "greet()   # Hello Guest"
   ]
  },
  {
   "cell_type": "markdown",
   "id": "24bb3175",
   "metadata": {},
   "source": [
    "4. Function with Return"
   ]
  },
  {
   "cell_type": "code",
   "execution_count": 12,
   "id": "604c09e9",
   "metadata": {},
   "outputs": [
    {
     "name": "stdout",
     "output_type": "stream",
     "text": [
      "5\n"
     ]
    }
   ],
   "source": [
    "def add(a, b):\n",
    "    return a + b\n",
    "print(add(2, 3))"
   ]
  },
  {
   "cell_type": "markdown",
   "id": "b1aa950e",
   "metadata": {},
   "source": [
    "5. Lambda Function (one-liner)"
   ]
  },
  {
   "cell_type": "code",
   "execution_count": 13,
   "id": "8b141e7b",
   "metadata": {},
   "outputs": [
    {
     "name": "stdout",
     "output_type": "stream",
     "text": [
      "25\n"
     ]
    }
   ],
   "source": [
    "square = lambda x: x*x\n",
    "print(square(5))"
   ]
  },
  {
   "cell_type": "markdown",
   "id": "110ed22f",
   "metadata": {},
   "source": [
    "6. **Using *args / kwargs"
   ]
  },
  {
   "cell_type": "code",
   "execution_count": 14,
   "id": "afe4c517",
   "metadata": {},
   "outputs": [
    {
     "name": "stdout",
     "output_type": "stream",
     "text": [
      "(1, 2, 3) {'name': 'Abhi'}\n"
     ]
    }
   ],
   "source": [
    "def show(*args, **kwargs):\n",
    "    print(args, kwargs)\n",
    "show(1,2,3, name=\"Abhi\")"
   ]
  },
  {
   "cell_type": "markdown",
   "id": "d0393feb",
   "metadata": {},
   "source": [
    "***4.  What is the purpose of the `return` statement in a Python function?***"
   ]
  },
  {
   "cell_type": "markdown",
   "id": "ed24ff9f",
   "metadata": {},
   "source": [
    "* The return statement sends a value back from a function to where it was called.\n",
    "* Without return, a function returns None by default.\n",
    "* It ends the function execution immediately."
   ]
  },
  {
   "cell_type": "code",
   "execution_count": 19,
   "id": "7d5f7545",
   "metadata": {},
   "outputs": [
    {
     "name": "stdout",
     "output_type": "stream",
     "text": [
      "5\n"
     ]
    }
   ],
   "source": [
    "def add(a, b):\n",
    "    return a + b   # sends the sum back\n",
    "\n",
    "result = add(2, 3)\n",
    "print(result)      # 5\n"
   ]
  },
  {
   "cell_type": "markdown",
   "id": "ebad3795",
   "metadata": {},
   "source": [
    "***5. What are iterators in Python and how do they differ from iterables?***"
   ]
  },
  {
   "cell_type": "markdown",
   "id": "9d715924",
   "metadata": {},
   "source": [
    "1. Iterable\n",
    "\n",
    "* An object you can loop over (like list, tuple, string).\n",
    "* Can create an iterator from it using iter()\n",
    "\n",
    "nums = [1,2,3]   # list is iterable<br>\n",
    "for n in nums:<br>\n",
    "    print(n)"
   ]
  },
  {
   "cell_type": "markdown",
   "id": "5e54d864",
   "metadata": {},
   "source": [
    "2. Iterator\n",
    "\n",
    "* An object that produces the next value when you call next().\n",
    "* Keeps track of current position.\n",
    "\n",
    "nums = [1,2,3]\n",
    "it = iter(nums)   # create iterator,<br>\n",
    "print(next(it))   # 1<br>\n",
    "print(next(it))   # 2<br>\n",
    "print(next(it))   # 3<br>"
   ]
  },
  {
   "cell_type": "markdown",
   "id": "f6fc52d3",
   "metadata": {},
   "source": [
    "***6. Explain the concept of generators in Python and how they are defined.***"
   ]
  },
  {
   "cell_type": "markdown",
   "id": "6786559b",
   "metadata": {},
   "source": [
    "* A generator is a special type of iterator that produces values on the fly (lazy evaluation).\n",
    "* Saves memory, especially for large data.\n",
    "* Defined using yield instead of return."
   ]
  },
  {
   "cell_type": "code",
   "execution_count": 20,
   "id": "86d5eddf",
   "metadata": {},
   "outputs": [
    {
     "name": "stdout",
     "output_type": "stream",
     "text": [
      "0\n",
      "1\n",
      "2\n"
     ]
    }
   ],
   "source": [
    "def my_gen():\n",
    "    for i in range(3):\n",
    "        yield i   # pauses here and sends value\n",
    "\n",
    "g = my_gen()     # create generator\n",
    "print(next(g))   # 0\n",
    "print(next(g))   # 1\n",
    "print(next(g))   # 2"
   ]
  },
  {
   "cell_type": "markdown",
   "id": "ae4d9132",
   "metadata": {},
   "source": [
    "***7.What are the advantages of using generators over regular functions?***"
   ]
  },
  {
   "cell_type": "markdown",
   "id": "fbb8ebc8",
   "metadata": {},
   "source": [
    "Advantages of Using Generators over Regular Functions\n",
    "\n",
    "1. Memory Efficiency - \n",
    "Generators produce values on-the-fly, avoiding the need to store the entire sequence in memory. This is particularly advantageous for handling large datasets.\n",
    "2. Lazy Evaluation - \n",
    "Values are computed only when required, which can improve performance and reduce unnecessary computations.\n",
    "3. Support for Infinite Sequences - \n",
    "Generators can model potentially infinite streams of data without memory overflow, unlike lists.\n",
    "4. Simplified Iteration -\n",
    "Generators integrate seamlessly with loops and iterator-based constructs, enabling concise and readable code.\n",
    "5. State Preservation - \n",
    "The yield statement allows a generator to maintain execution state between successive calls, avoiding manual state management."
   ]
  },
  {
   "cell_type": "code",
   "execution_count": 27,
   "id": "09813240",
   "metadata": {},
   "outputs": [
    {
     "name": "stdout",
     "output_type": "stream",
     "text": [
      "0\n",
      "1\n",
      "2\n"
     ]
    }
   ],
   "source": [
    "#example\n",
    "def gen_nums(n):\n",
    "    for i in range(n):\n",
    "        yield i\n",
    "\n",
    "for x in gen_nums(3):\n",
    "    print(x)\n"
   ]
  },
  {
   "cell_type": "markdown",
   "id": "24118918",
   "metadata": {},
   "source": [
    "***8. What is a lambda function in Python and when is it typically used?***"
   ]
  },
  {
   "cell_type": "markdown",
   "id": "60c0fc15",
   "metadata": {},
   "source": [
    "* A lambda function is an anonymous (unnamed) function defined using the lambda keyword.\n",
    "* It can take any number of arguments but contains a single expression, which is implicitly returned.\n",
    "\n",
    "Typical Use\n",
    "\n",
    "* Short, throwaway functions where defining a full def function is unnecessary.\n",
    "* Used with functional programming tools like map(), filter(), and reduce().\n",
    "* Inline operations inside data processing or GUI callbacks."
   ]
  },
  {
   "cell_type": "code",
   "execution_count": 26,
   "id": "3857f8ce",
   "metadata": {},
   "outputs": [
    {
     "name": "stdout",
     "output_type": "stream",
     "text": [
      "25\n"
     ]
    }
   ],
   "source": [
    "#example \n",
    "square = lambda x: x * x\n",
    "print(square(5))   # Output: 25"
   ]
  },
  {
   "cell_type": "markdown",
   "id": "b9910be6",
   "metadata": {},
   "source": [
    "***9. Explain the purpose and usage of the `map()` function in Python.***\n"
   ]
  },
  {
   "cell_type": "markdown",
   "id": "88446ab8",
   "metadata": {},
   "source": [
    "map() Function in Python\n",
    "\n",
    "* Purpose: Applies a given function to every item of an iterable (like list, tuple) and returns a map object (an iterator) with the results.\n",
    "* Usage: Useful for transforming data without writing explicit loops.\n",
    "\n",
    "- Returns a map object (iterator), not a list.\n",
    "- Can handle multiple iterables by passing more than one.\n",
    "- Works well with lambda or regular functions for concise code."
   ]
  },
  {
   "cell_type": "code",
   "execution_count": 29,
   "id": "21af6427",
   "metadata": {},
   "outputs": [
    {
     "name": "stdout",
     "output_type": "stream",
     "text": [
      "[1, 4, 9, 16]\n"
     ]
    }
   ],
   "source": [
    "#Example\n",
    "nums = [1, 2, 3, 4]\n",
    "squared = map(lambda x: x**2, nums)\n",
    "print(list(squared))  # [1, 4, 9, 16]"
   ]
  },
  {
   "cell_type": "markdown",
   "id": "1363a61d",
   "metadata": {},
   "source": [
    "***10. What is the difference between `map()`, `reduce()`, and `filter()` functions in Python?***"
   ]
  },
  {
   "cell_type": "markdown",
   "id": "402ce10e",
   "metadata": {},
   "source": [
    "| Function     | Purpose                                                            | Return Type              | Example                                                                     |\n",
    "| ------------ | ------------------------------------------------------------------ | ------------------------ | --------------------------------------------------------------------------- |\n",
    "| **map()**    | Applies a function to **each element** of an iterable              | Map object (iterator)    | `list(map(lambda x: x*2, [1,2,3])) → [2,4,6]`                               |\n",
    "| **filter()** | Selects elements **based on a condition**                          | Filter object (iterator) | `list(filter(lambda x: x>2, [1,2,3,4])) → [3,4]`                            |\n",
    "| **reduce()** | **Reduces** iterable to a **single value** using a binary function | Single value             | `from functools import reduce`<br>`reduce(lambda x,y: x+y, [1,2,3,4]) → 10` |\n"
   ]
  },
  {
   "cell_type": "markdown",
   "id": "0513fbf3",
   "metadata": {},
   "source": [
    "***11. Using pen & Paper write the internal mechanism for sum operation using  reduce function on this given\n",
    "list:[47,11,42,13];***"
   ]
  },
  {
   "cell_type": "code",
   "execution_count": 1,
   "id": "8eb4006a",
   "metadata": {},
   "outputs": [
    {
     "name": "stdout",
     "output_type": "stream",
     "text": [
      "113\n"
     ]
    }
   ],
   "source": [
    "from functools import reduce\n",
    "lst = [47, 11, 42, 13]\n",
    "result = reduce(lambda x, y: x + y, lst)\n",
    "print(result)"
   ]
  },
  {
   "cell_type": "markdown",
   "id": "633fb01c",
   "metadata": {},
   "source": [
    "### Practical Questions"
   ]
  },
  {
   "cell_type": "markdown",
   "id": "03e21e79",
   "metadata": {},
   "source": [
    "***1. Write a Python function that takes a list of numbers as input and returns the sum of all even numbers in\n",
    "the list.***"
   ]
  },
  {
   "cell_type": "code",
   "execution_count": 36,
   "id": "b95623f3",
   "metadata": {},
   "outputs": [
    {
     "name": "stdout",
     "output_type": "stream",
     "text": [
      "12\n"
     ]
    }
   ],
   "source": [
    "def sum_even(numbers):\n",
    "    return sum(x for x in numbers if x % 2 == 0)\n",
    "\n",
    "# Example\n",
    "print(sum_even([1, 2, 3, 4, 5, 6]))  # Output: 12\n"
   ]
  },
  {
   "cell_type": "markdown",
   "id": "33984439",
   "metadata": {},
   "source": [
    "***2.  Create a Python function that accepts a string and returns the reverse of that string.***"
   ]
  },
  {
   "cell_type": "code",
   "execution_count": 39,
   "id": "5eab8599",
   "metadata": {},
   "outputs": [
    {
     "name": "stdout",
     "output_type": "stream",
     "text": [
      "olleh\n"
     ]
    }
   ],
   "source": [
    "def reverse_string(s):\n",
    "    return s[::-1]\n",
    "\n",
    "# Example\n",
    "print(reverse_string(\"hello\"))"
   ]
  },
  {
   "cell_type": "markdown",
   "id": "84829b74",
   "metadata": {},
   "source": [
    "***3. Implement a Python function that takes a list of integers and returns a new list containing the squares of\n",
    "each number.***"
   ]
  },
  {
   "cell_type": "code",
   "execution_count": 38,
   "id": "4988622a",
   "metadata": {},
   "outputs": [
    {
     "name": "stdout",
     "output_type": "stream",
     "text": [
      "[1, 4, 9, 16]\n"
     ]
    }
   ],
   "source": [
    "def square_list(nums):\n",
    "    return [x**2 for x in nums]\n",
    "\n",
    "# Example\n",
    "print(square_list([1, 2, 3, 4]))"
   ]
  },
  {
   "cell_type": "markdown",
   "id": "8ae7a145",
   "metadata": {},
   "source": [
    "***4. Write a Python function that checks if a given number is prime or not from 1 to 200.***"
   ]
  },
  {
   "cell_type": "code",
   "execution_count": 41,
   "id": "d7a13db7",
   "metadata": {},
   "outputs": [
    {
     "name": "stdout",
     "output_type": "stream",
     "text": [
      "[2, 3, 5, 7, 11, 13, 17, 19, 23, 29, 31, 37, 41, 43, 47, 53, 59, 61, 67, 71, 73, 79, 83, 89, 97, 101, 103, 107, 109, 113, 127, 131, 137, 139, 149, 151, 157, 163, 167, 173, 179, 181, 191, 193, 197, 199]\n"
     ]
    }
   ],
   "source": [
    "import math\n",
    "\n",
    "def is_prime(n):\n",
    "    if n < 2:\n",
    "        return False\n",
    "    for i in range(2, math.isqrt(n)+1):\n",
    "        if n % i == 0:\n",
    "            return False\n",
    "    return True\n",
    "\n",
    "# Primes from 1 to 200\n",
    "primes = [x for x in range(1, 201) if is_prime(x)]\n",
    "print(primes)"
   ]
  },
  {
   "cell_type": "markdown",
   "id": "86201e18",
   "metadata": {},
   "source": [
    "***5. Create an iterator class in Python that generates the Fibonacci sequence up to a specified number of\n",
    "terms.***"
   ]
  },
  {
   "cell_type": "code",
   "execution_count": 42,
   "id": "f746d062",
   "metadata": {},
   "outputs": [
    {
     "name": "stdout",
     "output_type": "stream",
     "text": [
      "0 1 1 2 3 5 8 13 21 34 "
     ]
    }
   ],
   "source": [
    "def fib(n):\n",
    "    a=0\n",
    "    b=1\n",
    "    for i in range (n):\n",
    "        yield a\n",
    "        a ,b= b, a+b\n",
    "for num in fib(10):\n",
    "    print(num, end=\" \")"
   ]
  },
  {
   "cell_type": "markdown",
   "id": "dfe420fe",
   "metadata": {},
   "source": [
    "***6.Write a generator function in Python that yields the powers of 2 up to a given exponent.***"
   ]
  },
  {
   "cell_type": "code",
   "execution_count": 45,
   "id": "f00adc1f",
   "metadata": {},
   "outputs": [
    {
     "name": "stdout",
     "output_type": "stream",
     "text": [
      "1 2 4 8 16 32 "
     ]
    }
   ],
   "source": [
    "def Square(n):\n",
    "    for i in range(n + 1):\n",
    "        yield 2 ** i\n",
    "\n",
    "for p in Square(5):\n",
    "    print(p, end=\" \")"
   ]
  },
  {
   "cell_type": "markdown",
   "id": "793d3767",
   "metadata": {},
   "source": [
    "***7. Implement a generator function that reads a file line by line and yields each line as a string.***"
   ]
  },
  {
   "cell_type": "code",
   "execution_count": 70,
   "id": "0be810b4",
   "metadata": {},
   "outputs": [
    {
     "name": "stdout",
     "output_type": "stream",
     "text": [
      "Hello\n",
      "This is line 2\n",
      "This is line 3\n"
     ]
    }
   ],
   "source": [
    "def read_lines(lines):\n",
    "    for line in lines:\n",
    "        yield line\n",
    "lines = [\"Hello\", \"This is line 2\", \"This is line 3\"]\n",
    "for l in read_lines(lines):\n",
    "    print(l)"
   ]
  },
  {
   "cell_type": "markdown",
   "id": "bea54224",
   "metadata": {},
   "source": [
    "***8. Use a lambda function in Python to sort a list of tuples based on the second element of each tuple.***"
   ]
  },
  {
   "cell_type": "code",
   "execution_count": 72,
   "id": "8cd2a916",
   "metadata": {},
   "outputs": [
    {
     "name": "stdout",
     "output_type": "stream",
     "text": [
      "[(2, 1), (4, 2), (1, 3)]\n"
     ]
    }
   ],
   "source": [
    "# List of tuples\n",
    "data = [(1, 3), (2, 1), (4, 2)]\n",
    "\n",
    "# Sort by second element\n",
    "sorted_data = sorted(data, key=lambda x: x[1])\n",
    "\n",
    "print(sorted_data)\n"
   ]
  },
  {
   "cell_type": "markdown",
   "id": "ced2c7b1",
   "metadata": {},
   "source": [
    "***9. Write a Python program that uses `map()` to convert a list of temperatures from Celsius to Fahrenheit.***"
   ]
  },
  {
   "cell_type": "code",
   "execution_count": 74,
   "id": "b66d88db",
   "metadata": {},
   "outputs": [
    {
     "name": "stdout",
     "output_type": "stream",
     "text": [
      "[32.0, 68.0, 86.0, 98.6, 212.0]\n"
     ]
    }
   ],
   "source": [
    "# List of temperatures in Celsius\n",
    "celsius = [0, 20, 30, 37, 100]\n",
    "\n",
    "# Convert to Fahrenheit\n",
    "fahrenheit = list(map(lambda c: (c * 9/5) + 32, celsius))\n",
    "\n",
    "print(fahrenheit)\n"
   ]
  },
  {
   "cell_type": "markdown",
   "id": "86788b26",
   "metadata": {},
   "source": [
    "***10.  Create a Python program that uses `filter()` to remove all the vowels from a given string.***"
   ]
  },
  {
   "cell_type": "code",
   "execution_count": 75,
   "id": "ff996774",
   "metadata": {},
   "outputs": [
    {
     "name": "stdout",
     "output_type": "stream",
     "text": [
      "Hll Wrld\n"
     ]
    }
   ],
   "source": [
    "# Input string\n",
    "text = \"Hello World\"\n",
    "\n",
    "# Remove vowels\n",
    "result = ''.join(filter(lambda c: c.lower() not in 'aeiou', text))\n",
    "\n",
    "print(result)"
   ]
  },
  {
   "cell_type": "markdown",
   "id": "9a54b4ab",
   "metadata": {},
   "source": [
    "***11. Imagine an accounting routine used in a book shop. It works on a list with sublists, which look like this:***\n",
    "| Order Number | Book Title and Author                        | Quantity | Price per Item |\n",
    "|--------------|----------------------------------------------|----------|----------------|\n",
    "| 34587        | Learning Python, Mark Lutz                   | 4        | 40.95          |\n",
    "| 98762        | Programming Python, Mark Lutz                | 5        | 56.80          |\n",
    "| 77226        | Head First Python, Paul Barry                | 3        | 32.95          |\n",
    "| 88112        | Einführung in Python3, Bernd Klein           | 3        | 24.99          |\n",
    "\n",
    "***Write a Python program, which returns a list with 2-tuples. Each tuple consists of the order number and the***\n",
    "***product of the price per item and the quantity. The product should be increased by 10,- € if the value of the***\n",
    "***order is smaller than 100,00 €.***\n",
    "\n",
    "***Write a Python program using lambda and map.***"
   ]
  },
  {
   "cell_type": "code",
   "execution_count": 77,
   "id": "8eb02c71",
   "metadata": {},
   "outputs": [
    {
     "name": "stdout",
     "output_type": "stream",
     "text": [
      "[(34587, 163.8), (98762, 284.0), (77226, 108.85000000000001), (88112, 84.97)]\n"
     ]
    }
   ],
   "source": [
    "orders = [\n",
    "    [34587, \"Learning Python, Mark Lutz\", 4, 40.95],\n",
    "    [98762, \"Programming Python, Mark Lutz\", 5, 56.80],\n",
    "    [77226, \"Head First Python, Paul Barry\", 3, 32.95],\n",
    "    [88112, \"Einführung in Python3, Bernd Klein\", 3, 24.99]\n",
    "]\n",
    "\n",
    "# Calculate total with condition\n",
    "totals = list(map(lambda x: (x[0], x[2]*x[3] + 10 if x[2]*x[3] < 100 else x[2]*x[3]), orders))\n",
    "\n",
    "print(totals)"
   ]
  },
  {
   "cell_type": "markdown",
   "id": "0f1e1fcf",
   "metadata": {},
   "source": [
    "### Thankyou"
   ]
  }
 ],
 "metadata": {
  "kernelspec": {
   "display_name": "Python 3",
   "language": "python",
   "name": "python3"
  },
  "language_info": {
   "codemirror_mode": {
    "name": "ipython",
    "version": 3
   },
   "file_extension": ".py",
   "mimetype": "text/x-python",
   "name": "python",
   "nbconvert_exporter": "python",
   "pygments_lexer": "ipython3",
   "version": "3.13.5"
  }
 },
 "nbformat": 4,
 "nbformat_minor": 5
}
